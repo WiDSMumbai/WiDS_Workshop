{
 "cells": [
  {
   "cell_type": "markdown",
   "metadata": {},
   "source": [
    "# Workshop on Neural Networks (CNN)"
   ]
  },
  {
   "cell_type": "markdown",
   "metadata": {},
   "source": [
    "### Supervised Learning vs Unsupervised Learning!\n",
    "\n",
    "Supervised learning is a learning in which we teach or train the machine using data which is well labeled that means some data is already tagged with correct answer. After that, machine is provided with new set of examples(data) so that supervised learning algorithm analyses the training data(set of training examples) and produces a correct outcome from labeled data. \n",
    "\n",
    "Supervised learning classified into two categories of algorithms:\n",
    "\n",
    "![alt text](https://cdn-images-1.medium.com/max/800/1*ASYpFfDh7XnreU-ygqXonw.png \"Logo Title Text 1\")\n",
    "\n",
    "Unsupervised learning is the training of machine using information that is neither classified nor labeled and allowing the algorithm to act on that information without guidance. Here the task of machine is to group unsorted information according to similarities, patterns and differences without any prior training of data.\n",
    "\n",
    "![alt text](https://www.tutorialspoint.com/artificial_intelligence_with_python/images/clustering.jpg \"Logo Title Text 1\")\n"
   ]
  },
  {
   "cell_type": "markdown",
   "metadata": {},
   "source": [
    "### What is a neuron? \n",
    "\n",
    "<img src=https://1.bp.blogspot.com/-f32OEk4VM_8/WQ4l45m7wUI/AAAAAAAAKZw/QfdbcWXzxJUJjAqInxVL0fYuwm1SGYlMwCLcB/s1600/Revision%2Bto%2BNN_2.jpg width=\"400\">\n",
    "\n",
    "Keeping aside Gradient descent Algorithm and Backpropagation algorithm, let's code a simple neural network using Keras that will learn the sin function, basically we are reverse engineering it using neural network. \n"
   ]
  },
  {
   "cell_type": "code",
   "execution_count": 1,
   "metadata": {},
   "outputs": [],
   "source": [
    "import numpy as np\n",
    "import matplotlib.pyplot as plt \n",
    "%matplotlib notebook "
   ]
  },
  {
   "cell_type": "code",
   "execution_count": 2,
   "metadata": {},
   "outputs": [
    {
     "data": {
      "image/png": "[encoded data removed]",
      "text/plain": [
       "<Figure size 432x288 with 1 Axes>"
      ]
     },
     "metadata": {
      "needs_background": "light"
     },
     "output_type": "display_data"
    }
   ],
   "source": [
    "x = np.random.rand(5000)*(np.pi *2)\n",
    "y = np.sin(x)\n",
    "\n",
    "plt.figure(1)\n",
    "plt.scatter(x,y)\n",
    "plt.show()"
   ]
  },
  {
   "cell_type": "code",
   "execution_count": 3,
   "metadata": {},
   "outputs": [
    {
     "name": "stderr",
     "output_type": "stream",
     "text": [
      "Using TensorFlow backend.\n"
     ]
    },
    {
     "name": "stdout",
     "output_type": "stream",
     "text": [
      "Train on 4000 samples, validate on 1000 samples\n",
      "Epoch 1/100\n",
      "4000/4000 [==============================] - 9s 2ms/step - loss: 0.2112 - val_loss: 0.1324\n",
      "Epoch 2/100\n",
      "4000/4000 [==============================] - 2s 419us/step - loss: 0.1274 - val_loss: 0.1314\n",
      "Epoch 3/100\n",
      "4000/4000 [==============================] - 2s 442us/step - loss: 0.1066 - val_loss: 0.1243\n",
      "Epoch 4/100\n",
      "4000/4000 [==============================] - 2s 434us/step - loss: 0.0843 - val_loss: 0.0743\n",
      "Epoch 5/100\n",
      "4000/4000 [==============================] - 2s 434us/step - loss: 0.0687 - val_loss: 0.0611\n",
      "Epoch 6/100\n",
      "4000/4000 [==============================] - 2s 434us/step - loss: 0.0538 - val_loss: 0.0484\n",
      "Epoch 7/100\n",
      "4000/4000 [==============================] - 2s 435us/step - loss: 0.0416 - val_loss: 0.0368\n",
      "Epoch 8/100\n",
      "4000/4000 [==============================] - 2s 430us/step - loss: 0.0348 - val_loss: 0.0277\n",
      "Epoch 9/100\n",
      "4000/4000 [==============================] - 2s 432us/step - loss: 0.0239 - val_loss: 0.0206\n",
      "Epoch 10/100\n",
      "4000/4000 [==============================] - 2s 429us/step - loss: 0.0165 - val_loss: 0.0119\n",
      "Epoch 11/100\n",
      "4000/4000 [==============================] - 2s 420us/step - loss: 0.0099 - val_loss: 0.0085\n",
      "Epoch 12/100\n",
      "4000/4000 [==============================] - 2s 437us/step - loss: 0.0065 - val_loss: 0.0042\n",
      "Epoch 13/100\n",
      "4000/4000 [==============================] - 2s 452us/step - loss: 0.0043 - val_loss: 0.0047\n",
      "Epoch 14/100\n",
      "4000/4000 [==============================] - 2s 418us/step - loss: 0.0033 - val_loss: 0.0021\n",
      "Epoch 15/100\n",
      "4000/4000 [==============================] - 2s 420us/step - loss: 0.0025 - val_loss: 0.0016\n",
      "Epoch 16/100\n",
      "4000/4000 [==============================] - 2s 422us/step - loss: 0.0018 - val_loss: 0.0012\n",
      "Epoch 17/100\n",
      "4000/4000 [==============================] - 2s 418us/step - loss: 0.0017 - val_loss: 0.0021\n",
      "Epoch 18/100\n",
      "4000/4000 [==============================] - 2s 442us/step - loss: 0.0017 - val_loss: 0.0011\n",
      "Epoch 19/100\n",
      "4000/4000 [==============================] - 2s 398us/step - loss: 0.0016 - val_loss: 0.0010\n",
      "Epoch 20/100\n",
      "4000/4000 [==============================] - 2s 427us/step - loss: 0.0012 - val_loss: 0.0012\n",
      "Epoch 21/100\n",
      "4000/4000 [==============================] - 2s 435us/step - loss: 0.0014 - val_loss: 7.2850e-04\n",
      "Epoch 22/100\n",
      "4000/4000 [==============================] - 2s 429us/step - loss: 0.0011 - val_loss: 8.4910e-04\n",
      "Epoch 23/100\n",
      "4000/4000 [==============================] - 2s 422us/step - loss: 0.0013 - val_loss: 8.8841e-04\n",
      "Epoch 24/100\n",
      "4000/4000 [==============================] - 2s 457us/step - loss: 0.0012 - val_loss: 0.0029\n",
      "Epoch 25/100\n",
      "4000/4000 [==============================] - 2s 469us/step - loss: 0.0013 - val_loss: 0.0022\n",
      "Epoch 26/100\n",
      "4000/4000 [==============================] - 2s 412us/step - loss: 9.0199e-04 - val_loss: 5.7565e-04\n",
      "Epoch 27/100\n",
      "4000/4000 [==============================] - 2s 444us/step - loss: 7.7341e-04 - val_loss: 0.0013\n",
      "Epoch 28/100\n",
      "4000/4000 [==============================] - 2s 421us/step - loss: 8.5488e-04 - val_loss: 0.0022\n",
      "Epoch 29/100\n",
      "4000/4000 [==============================] - 2s 437us/step - loss: 0.0011 - val_loss: 3.3372e-04\n",
      "Epoch 30/100\n",
      "4000/4000 [==============================] - 2s 412us/step - loss: 4.3907e-04 - val_loss: 2.7969e-04\n",
      "Epoch 31/100\n",
      "4000/4000 [==============================] - 2s 436us/step - loss: 3.3809e-04 - val_loss: 2.7396e-04\n",
      "Epoch 32/100\n",
      "4000/4000 [==============================] - 2s 434us/step - loss: 4.4616e-04 - val_loss: 5.5015e-04\n",
      "Epoch 33/100\n",
      "4000/4000 [==============================] - 2s 432us/step - loss: 4.1347e-04 - val_loss: 2.2721e-04\n",
      "Epoch 34/100\n",
      "4000/4000 [==============================] - 2s 433us/step - loss: 3.7408e-04 - val_loss: 0.0015\n",
      "Epoch 35/100\n",
      "4000/4000 [==============================] - 2s 418us/step - loss: 3.5810e-04 - val_loss: 1.9797e-04\n",
      "Epoch 36/100\n",
      "4000/4000 [==============================] - 2s 439us/step - loss: 2.7282e-04 - val_loss: 2.8441e-04\n",
      "Epoch 37/100\n",
      "4000/4000 [==============================] - 2s 431us/step - loss: 5.0735e-04 - val_loss: 1.9279e-04\n",
      "Epoch 38/100\n",
      "4000/4000 [==============================] - 2s 417us/step - loss: 5.3229e-04 - val_loss: 4.8792e-04\n",
      "Epoch 39/100\n",
      "4000/4000 [==============================] - 2s 417us/step - loss: 0.0016 - val_loss: 1.7190e-04\n",
      "Epoch 40/100\n",
      "4000/4000 [==============================] - 2s 428us/step - loss: 3.1459e-04 - val_loss: 3.1645e-04\n",
      "Epoch 41/100\n",
      "4000/4000 [==============================] - 2s 414us/step - loss: 2.2015e-04 - val_loss: 1.2287e-04\n",
      "Epoch 42/100\n",
      "4000/4000 [==============================] - 2s 430us/step - loss: 2.8118e-04 - val_loss: 2.3566e-04\n",
      "Epoch 43/100\n",
      "4000/4000 [==============================] - 2s 428us/step - loss: 8.5980e-04 - val_loss: 1.5187e-04\n",
      "Epoch 44/100\n",
      "4000/4000 [==============================] - 2s 433us/step - loss: 1.5159e-04 - val_loss: 9.0750e-05\n",
      "Epoch 45/100\n",
      "4000/4000 [==============================] - 2s 428us/step - loss: 1.4154e-04 - val_loss: 3.0203e-04\n",
      "Epoch 46/100\n",
      "4000/4000 [==============================] - 2s 427us/step - loss: 1.9956e-04 - val_loss: 1.0713e-04\n",
      "Epoch 47/100\n",
      "4000/4000 [==============================] - 2s 421us/step - loss: 1.3646e-04 - val_loss: 8.4460e-05\n",
      "Epoch 48/100\n",
      "4000/4000 [==============================] - 2s 427us/step - loss: 1.2698e-04 - val_loss: 4.5304e-04\n",
      "Epoch 49/100\n",
      "4000/4000 [==============================] - 2s 420us/step - loss: 2.4237e-04 - val_loss: 3.7320e-04\n",
      "Epoch 50/100\n",
      "4000/4000 [==============================] - 2s 421us/step - loss: 5.5302e-04 - val_loss: 0.0013\n",
      "Epoch 51/100\n",
      "4000/4000 [==============================] - 2s 415us/step - loss: 2.7086e-04 - val_loss: 1.8324e-04\n",
      "Epoch 52/100\n",
      "4000/4000 [==============================] - 2s 404us/step - loss: 3.2848e-04 - val_loss: 7.6354e-05\n",
      "Epoch 53/100\n",
      "4000/4000 [==============================] - 2s 403us/step - loss: 2.2178e-04 - val_loss: 8.5367e-05\n",
      "Epoch 54/100\n",
      "4000/4000 [==============================] - 2s 450us/step - loss: 2.0987e-04 - val_loss: 1.0081e-04\n",
      "Epoch 55/100\n",
      "4000/4000 [==============================] - 2s 435us/step - loss: 1.8891e-04 - val_loss: 2.5956e-04\n",
      "Epoch 56/100\n",
      "4000/4000 [==============================] - 2s 436us/step - loss: 3.2869e-04 - val_loss: 2.0301e-04\n",
      "Epoch 57/100\n",
      "4000/4000 [==============================] - 2s 429us/step - loss: 1.5030e-04 - val_loss: 1.2866e-04\n",
      "Epoch 58/100\n",
      "4000/4000 [==============================] - 2s 427us/step - loss: 1.3913e-04 - val_loss: 1.2025e-04\n",
      "Epoch 59/100\n",
      "4000/4000 [==============================] - 2s 430us/step - loss: 1.7955e-04 - val_loss: 8.7380e-05\n",
      "Epoch 60/100\n",
      "4000/4000 [==============================] - 2s 430us/step - loss: 2.3167e-04 - val_loss: 5.5077e-05\n",
      "Epoch 61/100\n",
      "4000/4000 [==============================] - 2s 424us/step - loss: 1.2308e-04 - val_loss: 1.0733e-04\n",
      "Epoch 62/100\n",
      "4000/4000 [==============================] - 2s 423us/step - loss: 0.0012 - val_loss: 3.3821e-04\n",
      "Epoch 63/100\n",
      "4000/4000 [==============================] - 2s 423us/step - loss: 2.6927e-04 - val_loss: 0.0011\n",
      "Epoch 64/100\n",
      "4000/4000 [==============================] - 2s 431us/step - loss: 4.9904e-04 - val_loss: 1.5811e-04\n",
      "Epoch 65/100\n",
      "4000/4000 [==============================] - 2s 468us/step - loss: 2.0379e-04 - val_loss: 3.6383e-04\n",
      "Epoch 66/100\n",
      "4000/4000 [==============================] - 2s 533us/step - loss: 1.6772e-04 - val_loss: 1.3151e-04\n",
      "Epoch 67/100\n",
      "4000/4000 [==============================] - 2s 413us/step - loss: 1.3914e-04 - val_loss: 7.5287e-05\n",
      "Epoch 68/100\n",
      "4000/4000 [==============================] - 2s 420us/step - loss: 7.8916e-05 - val_loss: 7.3000e-05\n",
      "Epoch 69/100\n",
      "4000/4000 [==============================] - 2s 418us/step - loss: 9.3041e-05 - val_loss: 3.8281e-05\n",
      "Epoch 70/100\n",
      "4000/4000 [==============================] - 2s 423us/step - loss: 1.9388e-04 - val_loss: 5.0033e-05\n",
      "Epoch 71/100\n",
      "4000/4000 [==============================] - 2s 427us/step - loss: 2.2747e-04 - val_loss: 1.4775e-04\n",
      "Epoch 72/100\n",
      "4000/4000 [==============================] - 2s 430us/step - loss: 1.0321e-04 - val_loss: 4.0631e-05\n",
      "Epoch 73/100\n",
      "4000/4000 [==============================] - 2s 418us/step - loss: 1.2411e-04 - val_loss: 6.1229e-04\n",
      "Epoch 74/100\n"
     ]
    },
    {
     "name": "stdout",
     "output_type": "stream",
     "text": [
      "4000/4000 [==============================] - 2s 429us/step - loss: 1.5743e-04 - val_loss: 8.8056e-05\n",
      "Epoch 75/100\n",
      "4000/4000 [==============================] - 2s 438us/step - loss: 6.3770e-05 - val_loss: 1.6333e-04\n",
      "Epoch 76/100\n",
      "4000/4000 [==============================] - 2s 431us/step - loss: 1.1315e-04 - val_loss: 9.3269e-05\n",
      "Epoch 77/100\n",
      "4000/4000 [==============================] - 2s 439us/step - loss: 5.1146e-05 - val_loss: 1.8233e-05\n",
      "Epoch 78/100\n",
      "4000/4000 [==============================] - 2s 427us/step - loss: 7.2323e-04 - val_loss: 2.9417e-05\n",
      "Epoch 79/100\n",
      "4000/4000 [==============================] - 2s 436us/step - loss: 7.6169e-05 - val_loss: 1.6898e-04\n",
      "Epoch 80/100\n",
      "4000/4000 [==============================] - 2s 420us/step - loss: 1.4184e-04 - val_loss: 1.7075e-04\n",
      "Epoch 81/100\n",
      "4000/4000 [==============================] - 2s 406us/step - loss: 2.4018e-04 - val_loss: 4.6220e-04\n",
      "Epoch 82/100\n",
      "4000/4000 [==============================] - 2s 421us/step - loss: 1.4189e-04 - val_loss: 3.3575e-04\n",
      "Epoch 83/100\n",
      "4000/4000 [==============================] - 2s 433us/step - loss: 1.4081e-04 - val_loss: 5.3711e-05\n",
      "Epoch 84/100\n",
      "4000/4000 [==============================] - 2s 430us/step - loss: 4.4376e-05 - val_loss: 2.0451e-05\n",
      "Epoch 85/100\n",
      "4000/4000 [==============================] - 2s 436us/step - loss: 6.5053e-05 - val_loss: 3.1596e-04\n",
      "Epoch 86/100\n",
      "4000/4000 [==============================] - 2s 453us/step - loss: 5.5210e-05 - val_loss: 1.7889e-05\n",
      "Epoch 87/100\n",
      "4000/4000 [==============================] - 2s 553us/step - loss: 2.4901e-05 - val_loss: 1.0741e-04\n",
      "Epoch 88/100\n",
      "4000/4000 [==============================] - 2s 451us/step - loss: 1.5540e-04 - val_loss: 5.0733e-04\n",
      "Epoch 89/100\n",
      "4000/4000 [==============================] - 2s 438us/step - loss: 0.0010 - val_loss: 4.0205e-04\n",
      "Epoch 90/100\n",
      "4000/4000 [==============================] - 2s 415us/step - loss: 1.4114e-04 - val_loss: 7.8222e-05\n",
      "Epoch 91/100\n",
      "4000/4000 [==============================] - 2s 438us/step - loss: 7.7235e-05 - val_loss: 5.7597e-05\n",
      "Epoch 92/100\n",
      "4000/4000 [==============================] - 2s 432us/step - loss: 8.7776e-05 - val_loss: 2.8027e-05\n",
      "Epoch 93/100\n",
      "4000/4000 [==============================] - 2s 402us/step - loss: 3.2552e-05 - val_loss: 5.5857e-05\n",
      "Epoch 94/100\n",
      "4000/4000 [==============================] - 2s 463us/step - loss: 1.1305e-04 - val_loss: 9.1654e-05\n",
      "Epoch 95/100\n",
      "4000/4000 [==============================] - 2s 485us/step - loss: 3.4547e-05 - val_loss: 1.4045e-05\n",
      "Epoch 96/100\n",
      "4000/4000 [==============================] - 2s 424us/step - loss: 2.2549e-04 - val_loss: 0.0010\n",
      "Epoch 97/100\n",
      "4000/4000 [==============================] - 2s 424us/step - loss: 1.6295e-04 - val_loss: 1.9023e-05\n",
      "Epoch 98/100\n",
      "4000/4000 [==============================] - 2s 420us/step - loss: 2.7257e-04 - val_loss: 5.1862e-04\n",
      "Epoch 99/100\n",
      "4000/4000 [==============================] - 2s 429us/step - loss: 1.6844e-04 - val_loss: 7.0739e-05\n",
      "Epoch 100/100\n",
      "4000/4000 [==============================] - 2s 456us/step - loss: 4.8129e-05 - val_loss: 4.1357e-04\n"
     ]
    },
    {
     "data": {
      "text/plain": [
       "<keras.callbacks.History at 0x27d41e1d7f0>"
      ]
     },
     "execution_count": 3,
     "metadata": {},
     "output_type": "execute_result"
    }
   ],
   "source": [
    "from keras.models import Sequential\n",
    "from keras.layers.core import Dense, Activation\n",
    "\n",
    "network = Sequential()\n",
    "network.add(Dense(1,input_dim=1,activation='relu'))\n",
    "network.add(Dense(25,activation='relu'))\n",
    "network.add(Dense(50,activation='relu'))\n",
    "network.add(Dense(25,activation='relu'))\n",
    "network.add(Dense(1))\n",
    "\n",
    "network.compile(loss='mean_squared_error',optimizer='adam')\n",
    "\n",
    "network.fit(x,y,epochs=100,batch_size=20,validation_split=0.2)"
   ]
  },
  {
   "cell_type": "code",
   "execution_count": 4,
   "metadata": {},
   "outputs": [
    {
     "data": {
      "image/png": "[encoded data removed]",
      "text/plain": [
       "<Figure size 432x288 with 1 Axes>"
      ]
     },
     "metadata": {
      "needs_background": "light"
     },
     "output_type": "display_data"
    }
   ],
   "source": [
    "x_test = np.random.rand(25)*(np.pi*2)\n",
    "y_pred = network.predict(x_test)\n",
    "\n",
    "plt.figure(2)\n",
    "plt.scatter(x, y)\n",
    "plt.scatter(x_test,y_pred)\n",
    "plt.show()"
   ]
  },
  {
   "cell_type": "markdown",
   "metadata": {},
   "source": [
    "What do you think about the prediction? Do you think this is an overfit case? If so, how will you tackle it?\n",
    "\n",
    "- By adding noise?\n",
    "- Using Drop out?\n",
    "- Using Regularisation?\n",
    "- Reducing Sample data?\n",
    "- Hyperparameter tuning? \n",
    "\n",
    "Shown below is one approach:"
   ]
  },
  {
   "cell_type": "code",
   "execution_count": 5,
   "metadata": {},
   "outputs": [
    {
     "data": {
      "text/plain": [
       "<matplotlib.legend.Legend at 0x27d498c6710>"
      ]
     },
     "execution_count": 5,
     "metadata": {},
     "output_type": "execute_result"
    },
    {
     "data": {
      "image/png": "[encoded data removed]",
      "text/plain": [
       "<Figure size 432x288 with 1 Axes>"
      ]
     },
     "metadata": {
      "needs_background": "light"
     },
     "output_type": "display_data"
    }
   ],
   "source": [
    "x = np.random.rand(100)*(np.pi *2)\n",
    "y = np.sin(x) + 0.1*np.random.randn(100)\n",
    "\n",
    "x_linspace = np.linspace(0, 1, 1000)*(np.pi *2)\n",
    "y_true = np.sin(x_linspace)\n",
    "\n",
    "plt.figure(1)\n",
    "plt.plot(x_linspace, y_true, 'k-', linewidth = 2, label = 'True Function')\n",
    "plt.scatter(x,y, label ='train data')\n",
    "plt.legend()"
   ]
  },
  {
   "cell_type": "code",
   "execution_count": 13,
   "metadata": {},
   "outputs": [
    {
     "name": "stdout",
     "output_type": "stream",
     "text": [
      "Train on 80 samples, validate on 20 samples\n",
      "Epoch 1/100\n",
      "80/80 [==============================] - 1s 18ms/step - loss: 0.4575 - val_loss: 0.3210\n",
      "Epoch 2/100\n",
      "80/80 [==============================] - 0s 574us/step - loss: 0.4209 - val_loss: 0.2956\n",
      "Epoch 3/100\n",
      "80/80 [==============================] - 0s 596us/step - loss: 0.3923 - val_loss: 0.2717\n",
      "Epoch 4/100\n",
      "80/80 [==============================] - 0s 549us/step - loss: 0.3660 - val_loss: 0.2531\n",
      "Epoch 5/100\n",
      "80/80 [==============================] - 0s 536us/step - loss: 0.3470 - val_loss: 0.2351\n",
      "Epoch 6/100\n",
      "80/80 [==============================] - 0s 549us/step - loss: 0.3246 - val_loss: 0.2189\n",
      "Epoch 7/100\n",
      "80/80 [==============================] - 0s 573us/step - loss: 0.3030 - val_loss: 0.2020\n",
      "Epoch 8/100\n",
      "80/80 [==============================] - 0s 636us/step - loss: 0.2878 - val_loss: 0.1897\n",
      "Epoch 9/100\n",
      "80/80 [==============================] - 0s 549us/step - loss: 0.2670 - val_loss: 0.1756\n",
      "Epoch 10/100\n",
      "80/80 [==============================] - 0s 598us/step - loss: 0.2479 - val_loss: 0.1607\n",
      "Epoch 11/100\n",
      "80/80 [==============================] - 0s 638us/step - loss: 0.2322 - val_loss: 0.1482\n",
      "Epoch 12/100\n",
      "80/80 [==============================] - 0s 561us/step - loss: 0.2123 - val_loss: 0.1321\n",
      "Epoch 13/100\n",
      "80/80 [==============================] - 0s 548us/step - loss: 0.1959 - val_loss: 0.1199\n",
      "Epoch 14/100\n",
      "80/80 [==============================] - 0s 623us/step - loss: 0.1821 - val_loss: 0.1035\n",
      "Epoch 15/100\n",
      "80/80 [==============================] - 0s 561us/step - loss: 0.1587 - val_loss: 0.0948\n",
      "Epoch 16/100\n",
      "80/80 [==============================] - 0s 561us/step - loss: 0.1420 - val_loss: 0.0816\n",
      "Epoch 17/100\n",
      "80/80 [==============================] - 0s 535us/step - loss: 0.1268 - val_loss: 0.0707\n",
      "Epoch 18/100\n",
      "80/80 [==============================] - 0s 561us/step - loss: 0.1162 - val_loss: 0.0631\n",
      "Epoch 19/100\n",
      "80/80 [==============================] - 0s 573us/step - loss: 0.1066 - val_loss: 0.0574\n",
      "Epoch 20/100\n",
      "80/80 [==============================] - 0s 673us/step - loss: 0.1011 - val_loss: 0.0620\n",
      "Epoch 21/100\n",
      "80/80 [==============================] - 0s 686us/step - loss: 0.0965 - val_loss: 0.0538\n",
      "Epoch 22/100\n",
      "80/80 [==============================] - 0s 686us/step - loss: 0.0913 - val_loss: 0.0481\n",
      "Epoch 23/100\n",
      "80/80 [==============================] - 0s 623us/step - loss: 0.0887 - val_loss: 0.0488\n",
      "Epoch 24/100\n",
      "80/80 [==============================] - 0s 598us/step - loss: 0.0865 - val_loss: 0.0507\n",
      "Epoch 25/100\n",
      "80/80 [==============================] - 0s 561us/step - loss: 0.0835 - val_loss: 0.0431\n",
      "Epoch 26/100\n",
      "80/80 [==============================] - 0s 585us/step - loss: 0.0814 - val_loss: 0.0423\n",
      "Epoch 27/100\n",
      "80/80 [==============================] - 0s 585us/step - loss: 0.0746 - val_loss: 0.0437\n",
      "Epoch 28/100\n",
      "80/80 [==============================] - 0s 586us/step - loss: 0.0735 - val_loss: 0.0463\n",
      "Epoch 29/100\n",
      "80/80 [==============================] - 0s 611us/step - loss: 0.0717 - val_loss: 0.0407\n",
      "Epoch 30/100\n",
      "80/80 [==============================] - 0s 523us/step - loss: 0.0708 - val_loss: 0.0396\n",
      "Epoch 31/100\n",
      "80/80 [==============================] - 0s 598us/step - loss: 0.0655 - val_loss: 0.0353\n",
      "Epoch 32/100\n",
      "80/80 [==============================] - 0s 611us/step - loss: 0.0640 - val_loss: 0.0408\n",
      "Epoch 33/100\n",
      "80/80 [==============================] - 0s 600us/step - loss: 0.0631 - val_loss: 0.0420\n",
      "Epoch 34/100\n",
      "80/80 [==============================] - 0s 586us/step - loss: 0.0612 - val_loss: 0.0328\n",
      "Epoch 35/100\n",
      "80/80 [==============================] - 0s 611us/step - loss: 0.0568 - val_loss: 0.0303\n",
      "Epoch 36/100\n",
      "80/80 [==============================] - 0s 598us/step - loss: 0.0603 - val_loss: 0.0382\n",
      "Epoch 37/100\n",
      "80/80 [==============================] - 0s 574us/step - loss: 0.0630 - val_loss: 0.0325\n",
      "Epoch 38/100\n",
      "80/80 [==============================] - 0s 549us/step - loss: 0.0508 - val_loss: 0.0344\n",
      "Epoch 39/100\n",
      "80/80 [==============================] - 0s 608us/step - loss: 0.0514 - val_loss: 0.0320\n",
      "Epoch 40/100\n",
      "80/80 [==============================] - 0s 557us/step - loss: 0.0465 - val_loss: 0.0279\n",
      "Epoch 41/100\n",
      "80/80 [==============================] - 0s 648us/step - loss: 0.0444 - val_loss: 0.0230\n",
      "Epoch 42/100\n",
      "80/80 [==============================] - 0s 598us/step - loss: 0.0395 - val_loss: 0.0332\n",
      "Epoch 43/100\n",
      "80/80 [==============================] - 0s 636us/step - loss: 0.0398 - val_loss: 0.0194\n",
      "Epoch 44/100\n",
      "80/80 [==============================] - 0s 586us/step - loss: 0.0365 - val_loss: 0.0257\n",
      "Epoch 45/100\n",
      "80/80 [==============================] - 0s 573us/step - loss: 0.0346 - val_loss: 0.0210\n",
      "Epoch 46/100\n",
      "80/80 [==============================] - 0s 560us/step - loss: 0.0308 - val_loss: 0.0222\n",
      "Epoch 47/100\n",
      "80/80 [==============================] - 0s 559us/step - loss: 0.0314 - val_loss: 0.0207\n",
      "Epoch 48/100\n",
      "80/80 [==============================] - 0s 598us/step - loss: 0.0274 - val_loss: 0.0179\n",
      "Epoch 49/100\n",
      "80/80 [==============================] - 0s 673us/step - loss: 0.0263 - val_loss: 0.0192\n",
      "Epoch 50/100\n",
      "80/80 [==============================] - 0s 549us/step - loss: 0.0245 - val_loss: 0.0160\n",
      "Epoch 51/100\n",
      "80/80 [==============================] - 0s 573us/step - loss: 0.0242 - val_loss: 0.0306\n",
      "Epoch 52/100\n",
      "80/80 [==============================] - 0s 549us/step - loss: 0.0315 - val_loss: 0.0203\n",
      "Epoch 53/100\n",
      "80/80 [==============================] - 0s 561us/step - loss: 0.0275 - val_loss: 0.0589\n",
      "Epoch 54/100\n",
      "80/80 [==============================] - 0s 598us/step - loss: 0.0337 - val_loss: 0.0344\n",
      "Epoch 55/100\n",
      "80/80 [==============================] - 0s 561us/step - loss: 0.0353 - val_loss: 0.0443\n",
      "Epoch 56/100\n",
      "80/80 [==============================] - 0s 536us/step - loss: 0.0203 - val_loss: 0.0247\n",
      "Epoch 57/100\n",
      "80/80 [==============================] - 0s 610us/step - loss: 0.0222 - val_loss: 0.0403\n",
      "Epoch 58/100\n",
      "80/80 [==============================] - 0s 598us/step - loss: 0.0333 - val_loss: 0.0139\n",
      "Epoch 59/100\n",
      "80/80 [==============================] - 0s 548us/step - loss: 0.0351 - val_loss: 0.0235\n",
      "Epoch 60/100\n",
      "80/80 [==============================] - 0s 587us/step - loss: 0.0338 - val_loss: 0.0146\n",
      "Epoch 61/100\n",
      "80/80 [==============================] - 0s 536us/step - loss: 0.0303 - val_loss: 0.0204\n",
      "Epoch 62/100\n",
      "80/80 [==============================] - 0s 548us/step - loss: 0.0194 - val_loss: 0.0223\n",
      "Epoch 63/100\n",
      "80/80 [==============================] - 0s 573us/step - loss: 0.0150 - val_loss: 0.0145\n",
      "Epoch 64/100\n",
      "80/80 [==============================] - 0s 573us/step - loss: 0.0177 - val_loss: 0.0273\n",
      "Epoch 65/100\n",
      "80/80 [==============================] - 0s 586us/step - loss: 0.0232 - val_loss: 0.0156\n",
      "Epoch 66/100\n",
      "80/80 [==============================] - 0s 574us/step - loss: 0.0209 - val_loss: 0.0221\n",
      "Epoch 67/100\n",
      "80/80 [==============================] - 0s 536us/step - loss: 0.0185 - val_loss: 0.0142\n",
      "Epoch 68/100\n",
      "80/80 [==============================] - 0s 561us/step - loss: 0.0164 - val_loss: 0.0164\n",
      "Epoch 69/100\n",
      "80/80 [==============================] - 0s 549us/step - loss: 0.0142 - val_loss: 0.0144\n",
      "Epoch 70/100\n",
      "80/80 [==============================] - 0s 598us/step - loss: 0.0144 - val_loss: 0.0209\n",
      "Epoch 71/100\n",
      "80/80 [==============================] - 0s 580us/step - loss: 0.0149 - val_loss: 0.0161\n",
      "Epoch 72/100\n",
      "80/80 [==============================] - 0s 561us/step - loss: 0.0145 - val_loss: 0.0169\n",
      "Epoch 73/100\n",
      "80/80 [==============================] - 0s 573us/step - loss: 0.0170 - val_loss: 0.0168\n",
      "Epoch 74/100\n",
      "80/80 [==============================] - 0s 610us/step - loss: 0.0152 - val_loss: 0.0175\n",
      "Epoch 75/100\n",
      "80/80 [==============================] - 0s 561us/step - loss: 0.0133 - val_loss: 0.0180\n",
      "Epoch 76/100\n",
      "80/80 [==============================] - 0s 561us/step - loss: 0.0128 - val_loss: 0.0162\n",
      "Epoch 77/100\n",
      "80/80 [==============================] - 0s 548us/step - loss: 0.0133 - val_loss: 0.0142\n",
      "Epoch 78/100\n",
      "80/80 [==============================] - 0s 548us/step - loss: 0.0162 - val_loss: 0.0281\n",
      "Epoch 79/100\n",
      "80/80 [==============================] - 0s 550us/step - loss: 0.0198 - val_loss: 0.0163\n",
      "Epoch 80/100\n",
      "80/80 [==============================] - 0s 560us/step - loss: 0.0166 - val_loss: 0.0260\n"
     ]
    },
    {
     "name": "stdout",
     "output_type": "stream",
     "text": [
      "Epoch 81/100\n",
      "80/80 [==============================] - 0s 593us/step - loss: 0.0155 - val_loss: 0.0171\n",
      "Epoch 82/100\n",
      "80/80 [==============================] - 0s 574us/step - loss: 0.0142 - val_loss: 0.0304\n",
      "Epoch 83/100\n",
      "80/80 [==============================] - 0s 549us/step - loss: 0.0241 - val_loss: 0.0165\n",
      "Epoch 84/100\n",
      "80/80 [==============================] - 0s 549us/step - loss: 0.0283 - val_loss: 0.0280\n",
      "Epoch 85/100\n",
      "80/80 [==============================] - 0s 536us/step - loss: 0.0176 - val_loss: 0.0195\n",
      "Epoch 86/100\n",
      "80/80 [==============================] - 0s 524us/step - loss: 0.0185 - val_loss: 0.0163\n",
      "Epoch 87/100\n",
      "80/80 [==============================] - 0s 523us/step - loss: 0.0139 - val_loss: 0.0187\n",
      "Epoch 88/100\n",
      "80/80 [==============================] - 0s 524us/step - loss: 0.0127 - val_loss: 0.0179\n",
      "Epoch 89/100\n",
      "80/80 [==============================] - 0s 810us/step - loss: 0.0119 - val_loss: 0.0170\n",
      "Epoch 90/100\n",
      "80/80 [==============================] - 0s 548us/step - loss: 0.0125 - val_loss: 0.0171\n",
      "Epoch 91/100\n",
      "80/80 [==============================] - 0s 622us/step - loss: 0.0124 - val_loss: 0.0207\n",
      "Epoch 92/100\n",
      "80/80 [==============================] - 0s 548us/step - loss: 0.0126 - val_loss: 0.0165\n",
      "Epoch 93/100\n",
      "80/80 [==============================] - 0s 636us/step - loss: 0.0115 - val_loss: 0.0165\n",
      "Epoch 94/100\n",
      "80/80 [==============================] - 0s 610us/step - loss: 0.0131 - val_loss: 0.0210\n",
      "Epoch 95/100\n",
      "80/80 [==============================] - 0s 586us/step - loss: 0.0137 - val_loss: 0.0184\n",
      "Epoch 96/100\n",
      "80/80 [==============================] - 0s 549us/step - loss: 0.0114 - val_loss: 0.0177\n",
      "Epoch 97/100\n",
      "80/80 [==============================] - 0s 573us/step - loss: 0.0118 - val_loss: 0.0171\n",
      "Epoch 98/100\n",
      "80/80 [==============================] - 0s 573us/step - loss: 0.0124 - val_loss: 0.0187\n",
      "Epoch 99/100\n",
      "80/80 [==============================] - 0s 598us/step - loss: 0.0122 - val_loss: 0.0226\n",
      "Epoch 100/100\n",
      "80/80 [==============================] - 0s 611us/step - loss: 0.0123 - val_loss: 0.0179\n"
     ]
    },
    {
     "data": {
      "text/plain": [
       "<keras.callbacks.History at 0x27d92132eb8>"
      ]
     },
     "execution_count": 13,
     "metadata": {},
     "output_type": "execute_result"
    }
   ],
   "source": [
    "network = Sequential()\n",
    "network.add(Dense(10,input_dim=1,activation='relu'))\n",
    "network.add(Dense(25,activation='relu'))\n",
    "network.add(Dense(50,activation='relu'))\n",
    "network.add(Dense(100,activation='relu'))\n",
    "network.add(Dense(50,activation='relu'))\n",
    "network.add(Dense(25,activation='relu'))\n",
    "network.add(Dense(10,activation='relu'))\n",
    "network.add(Dense(1))\n",
    "\n",
    "network.compile(loss='mean_squared_error',optimizer='adam')\n",
    "\n",
    "network.fit(x,y,epochs=100,batch_size=20,validation_split=0.2)"
   ]
  },
  {
   "cell_type": "code",
   "execution_count": 14,
   "metadata": {},
   "outputs": [
    {
     "data": {
      "text/plain": [
       "<matplotlib.legend.Legend at 0x27d938a7a90>"
      ]
     },
     "execution_count": 14,
     "metadata": {},
     "output_type": "execute_result"
    },
    {
     "data": {
      "image/png": "[encoded data removed]",
      "text/plain": [
       "<Figure size 432x288 with 1 Axes>"
      ]
     },
     "metadata": {
      "needs_background": "light"
     },
     "output_type": "display_data"
    }
   ],
   "source": [
    "x_test = np.random.rand(25)*(np.pi*2)\n",
    "y_pred = network.predict(x_test)\n",
    "\n",
    "plt.figure(2)\n",
    "plt.plot(x_linspace, y_true, 'k-', linewidth = 2, label = 'True Function')\n",
    "plt.scatter(x, y, label ='train')\n",
    "plt.scatter(x_test,y_pred, label ='test')\n",
    "plt.legend()"
   ]
  },
  {
   "cell_type": "markdown",
   "metadata": {},
   "source": [
    "# Convolutional Neural Network\n",
    "\n",
    "### Why CNN?\n",
    "\n",
    "Assuming that we have a set of color images in 4K Ultra HD, we will have 26,542,080 (4096 x 2160 x 3) different neurons connected to each other in the first layer which is not really manageable. Therefore, we can say that RegularNets are not scalable for image classification. So how does CNN help? Let's see the layers in CNN!\n",
    "\n",
    "### Layers in CNN\n",
    "\n",
    "1. Convolutional Layer\n",
    "\n",
    "![alt text](https://leonardoaraujosantos.gitbooks.io/artificial-inteligence/content/more_images/Convolution_schematic.gif \"Logo Title Text 1\")\n",
    "\n",
    "2. Pooling Layer\n",
    "\n",
    "![alt text](https://cdn-images-1.medium.com/max/800/1*oVOUhBIi59Gb5w7eBzqYuA.png \"Logo Title Text 1\")\n",
    "\n",
    "3. Fully Connected Layer\n",
    "\n",
    "![alt text](https://cdn-images-1.medium.com/max/800/1*jYc7Hq9dU4kHXqm_Yd6vmw.png \"Logo Title Text 1\")\n",
    "\n",
    "In summary:\n",
    "\n",
    "![alt text](https://www.mathworks.com/content/mathworks/www/en/discovery/convolutional-neural-network/jcr:content/mainParsys/image_copy.adapt.full.high.jpg/1497876372993.jpg \"Logo Title Text 1\")\n",
    "\n",
    "Let's code a simple CNN using MNIST Dataset, which stands for Modified National Institute of Standards and Technology database that can be loaded directly using Keras API"
   ]
  },
  {
   "cell_type": "code",
   "execution_count": 16,
   "metadata": {},
   "outputs": [],
   "source": [
    "from keras import datasets\n",
    "(x_train, y_train), (x_test, y_test) = datasets.mnist.load_data()"
   ]
  },
  {
   "cell_type": "code",
   "execution_count": 18,
   "metadata": {},
   "outputs": [
    {
     "name": "stdout",
     "output_type": "stream",
     "text": [
      "8\n"
     ]
    },
    {
     "data": {
      "text/plain": [
       "<matplotlib.image.AxesImage at 0x27d96ebedd8>"
      ]
     },
     "execution_count": 18,
     "metadata": {},
     "output_type": "execute_result"
    },
    {
     "data": {
      "image/png": "[encoded data removed]",
      "text/plain": [
       "<Figure size 432x288 with 1 Axes>"
      ]
     },
     "metadata": {
      "needs_background": "light"
     },
     "output_type": "display_data"
    }
   ],
   "source": [
    "image_index = 7777 # You may select anything up to 60,000\n",
    "print(y_train[image_index]) # The label is 8\n",
    "plt.imshow(x_train[image_index], cmap='Greys')"
   ]
  },
  {
   "cell_type": "code",
   "execution_count": 19,
   "metadata": {},
   "outputs": [
    {
     "name": "stdout",
     "output_type": "stream",
     "text": [
      "x_train shape: (60000, 28, 28, 1)\n",
      "Number of images in x_train 60000\n",
      "Number of images in x_test 10000\n"
     ]
    }
   ],
   "source": [
    "# Reshaping the array to 4-dims so that it can work with the Keras API\n",
    "x_train = x_train.reshape(x_train.shape[0], 28, 28, 1)\n",
    "x_test = x_test.reshape(x_test.shape[0], 28, 28, 1)\n",
    "input_shape = (28, 28, 1)\n",
    "# Making sure that the values are float so that we can get decimal points after division\n",
    "x_train = x_train.astype('float32')\n",
    "x_test = x_test.astype('float32')\n",
    "# Normalizing the RGB codes by dividing it to the max RGB value.\n",
    "x_train /= 255\n",
    "x_test /= 255\n",
    "print('x_train shape:', x_train.shape)\n",
    "print('Number of images in x_train', x_train.shape[0])\n",
    "print('Number of images in x_test', x_test.shape[0])"
   ]
  },
  {
   "cell_type": "code",
   "execution_count": 20,
   "metadata": {},
   "outputs": [],
   "source": [
    "# Importing the required Keras modules containing model and layers\n",
    "from keras.models import Sequential\n",
    "from keras.layers import Dense, Conv2D, Dropout, Flatten, MaxPooling2D\n",
    "# Creating a Sequential Model and adding the layers\n",
    "model = Sequential()\n",
    "model.add(Conv2D(28, kernel_size=(3,3), input_shape=input_shape))\n",
    "model.add(MaxPooling2D(pool_size=(2, 2)))\n",
    "model.add(Flatten()) # Flattening the 2D arrays for fully connected layers\n",
    "model.add(Dense(128, activation='relu'))\n",
    "model.add(Dropout(0.2))\n",
    "model.add(Dense(10,activation='softmax'))"
   ]
  },
  {
   "cell_type": "code",
   "execution_count": 21,
   "metadata": {},
   "outputs": [
    {
     "name": "stdout",
     "output_type": "stream",
     "text": [
      "Epoch 1/10\n",
      "60000/60000 [==============================] - 49s 810us/step - loss: 0.2073 - acc: 0.9372\n",
      "Epoch 2/10\n",
      "60000/60000 [==============================] - 39s 645us/step - loss: 0.0817 - acc: 0.9750\n",
      "Epoch 3/10\n",
      "60000/60000 [==============================] - 39s 647us/step - loss: 0.0575 - acc: 0.98171s -\n",
      "Epoch 4/10\n",
      "60000/60000 [==============================] - 39s 653us/step - loss: 0.0435 - acc: 0.98570s - loss: 0.0435 - acc: 0.\n",
      "Epoch 5/10\n",
      "60000/60000 [==============================] - 39s 647us/step - loss: 0.0358 - acc: 0.9880\n",
      "Epoch 6/10\n",
      "60000/60000 [==============================] - 38s 638us/step - loss: 0.0281 - acc: 0.9906\n",
      "Epoch 7/10\n",
      "60000/60000 [==============================] - 39s 651us/step - loss: 0.0264 - acc: 0.99172s - loss: 0.0260 - acc: 0 -\n",
      "Epoch 8/10\n",
      "60000/60000 [==============================] - 39s 650us/step - loss: 0.0226 - acc: 0.9926\n",
      "Epoch 9/10\n",
      "60000/60000 [==============================] - 40s 662us/step - loss: 0.0182 - acc: 0.9940\n",
      "Epoch 10/10\n",
      "60000/60000 [==============================] - 39s 647us/step - loss: 0.0190 - acc: 0.9940\n"
     ]
    },
    {
     "data": {
      "text/plain": [
       "<keras.callbacks.History at 0x27d96f1d358>"
      ]
     },
     "execution_count": 21,
     "metadata": {},
     "output_type": "execute_result"
    }
   ],
   "source": [
    "model.compile(optimizer='adam', \n",
    "              loss='sparse_categorical_crossentropy', \n",
    "              metrics=['accuracy'])\n",
    "model.fit(x=x_train,y=y_train, epochs=10)"
   ]
  },
  {
   "cell_type": "code",
   "execution_count": 22,
   "metadata": {},
   "outputs": [
    {
     "name": "stdout",
     "output_type": "stream",
     "text": [
      "10000/10000 [==============================] - 2s 249us/step\n"
     ]
    },
    {
     "data": {
      "text/plain": [
       "[0.06547075034488553, 0.9838]"
      ]
     },
     "execution_count": 22,
     "metadata": {},
     "output_type": "execute_result"
    }
   ],
   "source": [
    "model.evaluate(x_test, y_test)"
   ]
  },
  {
   "cell_type": "code",
   "execution_count": 23,
   "metadata": {},
   "outputs": [
    {
     "name": "stdout",
     "output_type": "stream",
     "text": [
      "9\n"
     ]
    },
    {
     "data": {
      "image/png": "[encoded data removed]",
      "text/plain": [
       "<Figure size 432x288 with 1 Axes>"
      ]
     },
     "metadata": {
      "needs_background": "light"
     },
     "output_type": "display_data"
    }
   ],
   "source": [
    "image_index = 4444\n",
    "plt.imshow(x_test[image_index].reshape(28, 28),cmap='Greys')\n",
    "pred = model.predict(x_test[image_index].reshape(1, 28, 28, 1))\n",
    "print(pred.argmax())"
   ]
  },
  {
   "cell_type": "markdown",
   "metadata": {},
   "source": [
    "Above code reference: https://towardsdatascience.com/image-classification-in-10-minutes-with-mnist-dataset-54c35b77a38d\n",
    "\n",
    "Now let us take a use-case where the challenge is to create a model that predicts the presence of oil palm plantations in satellite imagery. [Refer this notebook](https://github.com/KK945/ML-Practise/blob/master/WiDSDatathon2019.ipynb) "
   ]
  },
  {
   "cell_type": "markdown",
   "metadata": {},
   "source": [
    "## Do you think AI can match Human skills? Are they there yet? \n",
    "\n",
    "Do you understand this? \n",
    "\n",
    "![alt text](https://cdn-images-1.medium.com/max/800/1*opK_rsxQuWOJQsBWdVYBBw.png \"Logo Title Text 1\")\n",
    "\n",
    "Now, do you? \n",
    "\n",
    "![alt text](https://cdn-images-1.medium.com/max/800/1*Byjtj3ceHC3QlzgEyihXOQ.png \"Logo Title Text 1\")\n",
    "\n",
    "Humans do good at recognising objects that are severely blocked and it is difficult to fool a human. So, there is fundamental difference between machine and human vision perceptions and this gap is what every major AI tech company is working on to close. "
   ]
  },
  {
   "cell_type": "markdown",
   "metadata": {},
   "source": [
    "### Thank you\n",
    "\n",
    "Resources:\n",
    "\n",
    "- Neural Network and its learning algorithm (Backpropagation): Series of 4 videos: https://www.youtube.com/watch?v=aircAruvnKk&list=PLZHQObOWTQDNU6R1_67000Dx_ZCJB-3pi \n",
    "\n",
    "- How Neural Nets learn: https://www.youtube.com/watch?v=pFWiauHOFpY \n",
    "\n",
    "- Overfit vs Underfit explanation through code example: https://github.com/WillKoehrsen/Data-Analysis/blob/master/over_vs_under/Over%20vs%20Under%20Fitting%20Example.ipynb\n"
   ]
  }
 ],
 "metadata": {
  "kernelspec": {
   "display_name": "Python 3",
   "language": "python",
   "name": "python3"
  },
  "language_info": {
   "codemirror_mode": {
    "name": "ipython",
    "version": 3
   },
   "file_extension": ".py",
   "mimetype": "text/x-python",
   "name": "python",
   "nbconvert_exporter": "python",
   "pygments_lexer": "ipython3",
   "version": "3.6.8"
  }
 },
 "nbformat": 4,
 "nbformat_minor": 2
}
